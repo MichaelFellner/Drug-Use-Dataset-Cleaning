{
 "cells": [
  {
   "cell_type": "code",
   "execution_count": 1,
   "metadata": {},
   "outputs": [],
   "source": [
    "import pandas as pd\n",
    "import numpy as np\n",
    "import matplotlib.pyplot as plt\n",
    "import seaborn as sns\n",
    "%matplotlib inline"
   ]
  },
  {
   "cell_type": "code",
   "execution_count": 2,
   "metadata": {
    "scrolled": true
   },
   "outputs": [
    {
     "data": {
      "text/html": [
       "<div>\n",
       "<style scoped>\n",
       "    .dataframe tbody tr th:only-of-type {\n",
       "        vertical-align: middle;\n",
       "    }\n",
       "\n",
       "    .dataframe tbody tr th {\n",
       "        vertical-align: top;\n",
       "    }\n",
       "\n",
       "    .dataframe thead th {\n",
       "        text-align: right;\n",
       "    }\n",
       "</style>\n",
       "<table border=\"1\" class=\"dataframe\">\n",
       "  <thead>\n",
       "    <tr style=\"text-align: right;\">\n",
       "      <th></th>\n",
       "      <th>Original Index</th>\n",
       "      <th>ECSAGE</th>\n",
       "      <th>SEDAGE</th>\n",
       "      <th>IRCIGAGE</th>\n",
       "      <th>IRALCAGE</th>\n",
       "      <th>IRMJAGE</th>\n",
       "      <th>IRCOCAGE</th>\n",
       "      <th>IRHERAGE</th>\n",
       "      <th>IRHALAGE</th>\n",
       "      <th>IRECSAGE</th>\n",
       "      <th>IRINHAGE</th>\n",
       "      <th>IRANLAGE</th>\n",
       "      <th>IRTRNAGE</th>\n",
       "      <th>IRSTMAGE</th>\n",
       "      <th>IRMTHAGE</th>\n",
       "      <th>PSYAGE2</th>\n",
       "      <th>SUMAGE</th>\n",
       "      <th>IEMAGE</th>\n",
       "    </tr>\n",
       "  </thead>\n",
       "  <tbody>\n",
       "    <tr>\n",
       "      <th>0</th>\n",
       "      <td>0</td>\n",
       "      <td>991</td>\n",
       "      <td>991</td>\n",
       "      <td>19</td>\n",
       "      <td>991</td>\n",
       "      <td>991</td>\n",
       "      <td>991</td>\n",
       "      <td>991</td>\n",
       "      <td>991</td>\n",
       "      <td>991</td>\n",
       "      <td>991</td>\n",
       "      <td>991</td>\n",
       "      <td>991</td>\n",
       "      <td>991</td>\n",
       "      <td>991</td>\n",
       "      <td>991</td>\n",
       "      <td>991</td>\n",
       "      <td>991</td>\n",
       "    </tr>\n",
       "    <tr>\n",
       "      <th>1</th>\n",
       "      <td>1</td>\n",
       "      <td>17</td>\n",
       "      <td>991</td>\n",
       "      <td>14</td>\n",
       "      <td>13</td>\n",
       "      <td>14</td>\n",
       "      <td>16</td>\n",
       "      <td>991</td>\n",
       "      <td>17</td>\n",
       "      <td>17</td>\n",
       "      <td>991</td>\n",
       "      <td>991</td>\n",
       "      <td>16</td>\n",
       "      <td>991</td>\n",
       "      <td>991</td>\n",
       "      <td>16</td>\n",
       "      <td>14</td>\n",
       "      <td>16</td>\n",
       "    </tr>\n",
       "    <tr>\n",
       "      <th>2</th>\n",
       "      <td>2</td>\n",
       "      <td>991</td>\n",
       "      <td>991</td>\n",
       "      <td>14</td>\n",
       "      <td>16</td>\n",
       "      <td>991</td>\n",
       "      <td>991</td>\n",
       "      <td>991</td>\n",
       "      <td>991</td>\n",
       "      <td>991</td>\n",
       "      <td>991</td>\n",
       "      <td>991</td>\n",
       "      <td>991</td>\n",
       "      <td>991</td>\n",
       "      <td>991</td>\n",
       "      <td>991</td>\n",
       "      <td>991</td>\n",
       "      <td>991</td>\n",
       "    </tr>\n",
       "    <tr>\n",
       "      <th>3</th>\n",
       "      <td>3</td>\n",
       "      <td>991</td>\n",
       "      <td>991</td>\n",
       "      <td>16</td>\n",
       "      <td>18</td>\n",
       "      <td>991</td>\n",
       "      <td>991</td>\n",
       "      <td>991</td>\n",
       "      <td>991</td>\n",
       "      <td>991</td>\n",
       "      <td>991</td>\n",
       "      <td>991</td>\n",
       "      <td>991</td>\n",
       "      <td>991</td>\n",
       "      <td>991</td>\n",
       "      <td>991</td>\n",
       "      <td>991</td>\n",
       "      <td>991</td>\n",
       "    </tr>\n",
       "    <tr>\n",
       "      <th>4</th>\n",
       "      <td>4</td>\n",
       "      <td>991</td>\n",
       "      <td>991</td>\n",
       "      <td>14</td>\n",
       "      <td>18</td>\n",
       "      <td>991</td>\n",
       "      <td>991</td>\n",
       "      <td>991</td>\n",
       "      <td>991</td>\n",
       "      <td>991</td>\n",
       "      <td>991</td>\n",
       "      <td>991</td>\n",
       "      <td>991</td>\n",
       "      <td>991</td>\n",
       "      <td>991</td>\n",
       "      <td>991</td>\n",
       "      <td>991</td>\n",
       "      <td>991</td>\n",
       "    </tr>\n",
       "  </tbody>\n",
       "</table>\n",
       "</div>"
      ],
      "text/plain": [
       "   Original Index  ECSAGE  SEDAGE  IRCIGAGE  IRALCAGE  IRMJAGE  IRCOCAGE  \\\n",
       "0               0     991     991        19       991      991       991   \n",
       "1               1      17     991        14        13       14        16   \n",
       "2               2     991     991        14        16      991       991   \n",
       "3               3     991     991        16        18      991       991   \n",
       "4               4     991     991        14        18      991       991   \n",
       "\n",
       "   IRHERAGE  IRHALAGE  IRECSAGE  IRINHAGE  IRANLAGE  IRTRNAGE  IRSTMAGE  \\\n",
       "0       991       991       991       991       991       991       991   \n",
       "1       991        17        17       991       991        16       991   \n",
       "2       991       991       991       991       991       991       991   \n",
       "3       991       991       991       991       991       991       991   \n",
       "4       991       991       991       991       991       991       991   \n",
       "\n",
       "   IRMTHAGE  PSYAGE2  SUMAGE  IEMAGE  \n",
       "0       991      991     991     991  \n",
       "1       991       16      14      16  \n",
       "2       991      991     991     991  \n",
       "3       991      991     991     991  \n",
       "4       991      991     991     991  "
      ]
     },
     "execution_count": 2,
     "metadata": {},
     "output_type": "execute_result"
    }
   ],
   "source": [
    "age_data = pd.read_csv(\"age_columns.csv\")\n",
    "age_data.head()"
   ]
  },
  {
   "cell_type": "markdown",
   "metadata": {},
   "source": [
    "Checking unique values across all columns"
   ]
  },
  {
   "cell_type": "code",
   "execution_count": 9,
   "metadata": {},
   "outputs": [
    {
     "name": "stdout",
     "output_type": "stream",
     "text": [
      "[1, 2, 3, 4, 5, 6, 7, 8, 9, 10, 11, 12, 13, 14, 15, 16, 17, 18, 19, 20, 21, 22, 23, 24, 25, 26, 27, 28, 29, 30, 31, 32, 33, 34, 35, 36, 37, 38, 39, 40, 41, 42, 43, 44, 45, 46, 47, 48, 49, 50, 51, 52, 53, 54, 55, 56, 57, 58, 59, 60, 61, 62, 64, 65, 66, 67, 68, 69, 70, 71, 72, 74, 75, 80, 981, 985, 991, 994, 997, 998]\n"
     ]
    }
   ],
   "source": [
    "unique_values = []\n",
    "for col in age_data.columns.drop('Original Index'):\n",
    "    for i in age_data[col].unique():\n",
    "        if i not in unique_values:\n",
    "            unique_values.append(i)\n",
    "unique_values.sort()\n",
    "print(unique_values)"
   ]
  },
  {
   "cell_type": "markdown",
   "metadata": {},
   "source": [
    "All values correspond to an age except 981, 985,991, 994, 997, and 998"
   ]
  },
  {
   "cell_type": "markdown",
   "metadata": {},
   "source": [
    "<b> Code meanings </b>\n",
    "<ol>\n",
    "    <li> 981 -- Used in multiple columns. Represents \"never used [column substance] logically assigned\" </li>\n",
    "    <li> 985 -- Used in multiple columns. Means \"Bad data -- logically assigned\".</li>\n",
    "    <li> 991 -- Used frequently, represents \"Never used [column substance]\" </li>\n",
    "    <li> 994 -- Represents \"dont know\"</li>\n",
    "    <li> 997 -- Represents \"refused\" </li>\n",
    "    <li> 998 -- Represents \"blank\"</li>\n",
    "</ol>\n"
   ]
  },
  {
   "cell_type": "markdown",
   "metadata": {},
   "source": [
    "Checking how often each code appears"
   ]
  },
  {
   "cell_type": "code",
   "execution_count": 22,
   "metadata": {},
   "outputs": [
    {
     "name": "stdout",
     "output_type": "stream",
     "text": [
      "Total for 981: 20\n",
      "Total for 985: 13\n",
      "Total for 991: 754090\n",
      "Total for 994: 39\n",
      "Total for 997: 20\n",
      "Total for 998: 191\n"
     ]
    }
   ],
   "source": [
    "problem_codes = [981,985,991,994,997,998]\n",
    "for i in problem_codes:\n",
    "    print (\"Total for \" + str(i) + \": \" + str((age_data.drop('Original Index',axis=1) == i).sum().sum()))"
   ]
  },
  {
   "cell_type": "markdown",
   "metadata": {},
   "source": [
    "For every code except 991, will drop those rows for now"
   ]
  },
  {
   "cell_type": "code",
   "execution_count": 23,
   "metadata": {},
   "outputs": [],
   "source": [
    "drop_codes = problem_codes\n",
    "drop_codes.remove(991)"
   ]
  },
  {
   "cell_type": "code",
   "execution_count": 28,
   "metadata": {},
   "outputs": [],
   "source": [
    "x = age_data[~age_data.isin(drop_codes)]"
   ]
  },
  {
   "cell_type": "code",
   "execution_count": 33,
   "metadata": {},
   "outputs": [
    {
     "data": {
      "text/plain": [
       "Original Index      5\n",
       "ECSAGE             87\n",
       "SEDAGE            196\n",
       "IRCIGAGE            0\n",
       "IRALCAGE            0\n",
       "IRMJAGE             0\n",
       "IRCOCAGE            0\n",
       "IRHERAGE            0\n",
       "IRHALAGE            0\n",
       "IRECSAGE            0\n",
       "IRINHAGE            0\n",
       "IRANLAGE            0\n",
       "IRTRNAGE            0\n",
       "IRSTMAGE            0\n",
       "IRMTHAGE            0\n",
       "PSYAGE2             0\n",
       "SUMAGE              0\n",
       "IEMAGE              0\n",
       "dtype: int64"
      ]
     },
     "execution_count": 33,
     "metadata": {},
     "output_type": "execute_result"
    }
   ],
   "source": [
    "x.isna().sum()"
   ]
  },
  {
   "cell_type": "code",
   "execution_count": 34,
   "metadata": {},
   "outputs": [],
   "source": [
    "age_data = age_data.drop(['ECSAGE','SEDAGE'],axis=1)"
   ]
  },
  {
   "cell_type": "code",
   "execution_count": 35,
   "metadata": {},
   "outputs": [
    {
     "name": "stdout",
     "output_type": "stream",
     "text": [
      "Total for 981: 0\n",
      "Total for 985: 0\n",
      "Total for 991: 648877\n",
      "Total for 994: 0\n",
      "Total for 997: 0\n",
      "Total for 998: 0\n"
     ]
    }
   ],
   "source": [
    "problem_codes = [981,985,991,994,997,998]\n",
    "for i in problem_codes:\n",
    "    print (\"Total for \" + str(i) + \": \" + str((age_data.drop('Original Index',axis=1) == i).sum().sum()))"
   ]
  },
  {
   "cell_type": "code",
   "execution_count": 37,
   "metadata": {},
   "outputs": [
    {
     "data": {
      "text/plain": [
       "Index(['Original Index', 'IRCIGAGE', 'IRALCAGE', 'IRMJAGE', 'IRCOCAGE',\n",
       "       'IRHERAGE', 'IRHALAGE', 'IRECSAGE', 'IRINHAGE', 'IRANLAGE', 'IRTRNAGE',\n",
       "       'IRSTMAGE', 'IRMTHAGE', 'PSYAGE2', 'SUMAGE', 'IEMAGE'],\n",
       "      dtype='object')"
      ]
     },
     "execution_count": 37,
     "metadata": {},
     "output_type": "execute_result"
    }
   ],
   "source": [
    "age_data.columns"
   ]
  },
  {
   "cell_type": "code",
   "execution_count": 43,
   "metadata": {},
   "outputs": [],
   "source": [
    "renames = {'IRCIGAGE':\"Cigarrete Age\",\n",
    "          'IRALCAGE' : 'Alcohol Age',\n",
    "          'IRMJAGE' : 'Marijuana Age',\n",
    "          'IRCOCAGE': 'Cocaine Age',\n",
    "          'IRHERAGE' : 'Heroin Age',\n",
    "          'IRHALAGE': 'Hallucinogen Age',\n",
    "          'IRECSAGE' : 'Ecstasy Age',\n",
    "          'IRINHAGE' : 'Inhalent Age',\n",
    "          'IRANLAGE' : 'Pain-Reliever Age',\n",
    "          'IRTRNAGE' : 'Tranquelizer Age',\n",
    "          'IRSTMAGE' : 'Stimulant Age',\n",
    "          'IRMTHAGE' : 'Meth Age',\n",
    "          'PSYAGE2' : 'Psychotherapeutics Age',\n",
    "          'SUMAGE' : 'Any Drug Age',\n",
    "          'IEMAGE' : 'Any Drug (except marijuana) Age'}\n",
    "age_data = age_data.rename(mapper=renames,axis=1)"
   ]
  },
  {
   "cell_type": "code",
   "execution_count": 44,
   "metadata": {},
   "outputs": [
    {
     "data": {
      "text/html": [
       "<div>\n",
       "<style scoped>\n",
       "    .dataframe tbody tr th:only-of-type {\n",
       "        vertical-align: middle;\n",
       "    }\n",
       "\n",
       "    .dataframe tbody tr th {\n",
       "        vertical-align: top;\n",
       "    }\n",
       "\n",
       "    .dataframe thead th {\n",
       "        text-align: right;\n",
       "    }\n",
       "</style>\n",
       "<table border=\"1\" class=\"dataframe\">\n",
       "  <thead>\n",
       "    <tr style=\"text-align: right;\">\n",
       "      <th></th>\n",
       "      <th>Original Index</th>\n",
       "      <th>Cigarrete Age</th>\n",
       "      <th>Alcohol Age</th>\n",
       "      <th>Marijuana Age</th>\n",
       "      <th>Cocaine Age</th>\n",
       "      <th>Heroin Age</th>\n",
       "      <th>Hallucinogen Age</th>\n",
       "      <th>Ecstasy Age</th>\n",
       "      <th>Inhalent Age</th>\n",
       "      <th>Pain-Reliever Age</th>\n",
       "      <th>Tranquelizer Age</th>\n",
       "      <th>Stimulant Age</th>\n",
       "      <th>Meth Age</th>\n",
       "      <th>Psychotherapeutics Age</th>\n",
       "      <th>Any Drug Age</th>\n",
       "      <th>Any Drug (except marijuana) Age</th>\n",
       "    </tr>\n",
       "  </thead>\n",
       "  <tbody>\n",
       "    <tr>\n",
       "      <th>0</th>\n",
       "      <td>0</td>\n",
       "      <td>19</td>\n",
       "      <td>991</td>\n",
       "      <td>991</td>\n",
       "      <td>991</td>\n",
       "      <td>991</td>\n",
       "      <td>991</td>\n",
       "      <td>991</td>\n",
       "      <td>991</td>\n",
       "      <td>991</td>\n",
       "      <td>991</td>\n",
       "      <td>991</td>\n",
       "      <td>991</td>\n",
       "      <td>991</td>\n",
       "      <td>991</td>\n",
       "      <td>991</td>\n",
       "    </tr>\n",
       "    <tr>\n",
       "      <th>1</th>\n",
       "      <td>1</td>\n",
       "      <td>14</td>\n",
       "      <td>13</td>\n",
       "      <td>14</td>\n",
       "      <td>16</td>\n",
       "      <td>991</td>\n",
       "      <td>17</td>\n",
       "      <td>17</td>\n",
       "      <td>991</td>\n",
       "      <td>991</td>\n",
       "      <td>16</td>\n",
       "      <td>991</td>\n",
       "      <td>991</td>\n",
       "      <td>16</td>\n",
       "      <td>14</td>\n",
       "      <td>16</td>\n",
       "    </tr>\n",
       "    <tr>\n",
       "      <th>2</th>\n",
       "      <td>2</td>\n",
       "      <td>14</td>\n",
       "      <td>16</td>\n",
       "      <td>991</td>\n",
       "      <td>991</td>\n",
       "      <td>991</td>\n",
       "      <td>991</td>\n",
       "      <td>991</td>\n",
       "      <td>991</td>\n",
       "      <td>991</td>\n",
       "      <td>991</td>\n",
       "      <td>991</td>\n",
       "      <td>991</td>\n",
       "      <td>991</td>\n",
       "      <td>991</td>\n",
       "      <td>991</td>\n",
       "    </tr>\n",
       "    <tr>\n",
       "      <th>3</th>\n",
       "      <td>3</td>\n",
       "      <td>16</td>\n",
       "      <td>18</td>\n",
       "      <td>991</td>\n",
       "      <td>991</td>\n",
       "      <td>991</td>\n",
       "      <td>991</td>\n",
       "      <td>991</td>\n",
       "      <td>991</td>\n",
       "      <td>991</td>\n",
       "      <td>991</td>\n",
       "      <td>991</td>\n",
       "      <td>991</td>\n",
       "      <td>991</td>\n",
       "      <td>991</td>\n",
       "      <td>991</td>\n",
       "    </tr>\n",
       "    <tr>\n",
       "      <th>4</th>\n",
       "      <td>4</td>\n",
       "      <td>14</td>\n",
       "      <td>18</td>\n",
       "      <td>991</td>\n",
       "      <td>991</td>\n",
       "      <td>991</td>\n",
       "      <td>991</td>\n",
       "      <td>991</td>\n",
       "      <td>991</td>\n",
       "      <td>991</td>\n",
       "      <td>991</td>\n",
       "      <td>991</td>\n",
       "      <td>991</td>\n",
       "      <td>991</td>\n",
       "      <td>991</td>\n",
       "      <td>991</td>\n",
       "    </tr>\n",
       "  </tbody>\n",
       "</table>\n",
       "</div>"
      ],
      "text/plain": [
       "   Original Index  Cigarrete Age  Alcohol Age  Marijuana Age  Cocaine Age  \\\n",
       "0               0             19          991            991          991   \n",
       "1               1             14           13             14           16   \n",
       "2               2             14           16            991          991   \n",
       "3               3             16           18            991          991   \n",
       "4               4             14           18            991          991   \n",
       "\n",
       "   Heroin Age  Hallucinogen Age  Ecstasy Age  Inhalent Age  Pain-Reliever Age  \\\n",
       "0         991               991          991           991                991   \n",
       "1         991                17           17           991                991   \n",
       "2         991               991          991           991                991   \n",
       "3         991               991          991           991                991   \n",
       "4         991               991          991           991                991   \n",
       "\n",
       "   Tranquelizer Age  Stimulant Age  Meth Age  Psychotherapeutics Age  \\\n",
       "0               991            991       991                     991   \n",
       "1                16            991       991                      16   \n",
       "2               991            991       991                     991   \n",
       "3               991            991       991                     991   \n",
       "4               991            991       991                     991   \n",
       "\n",
       "   Any Drug Age  Any Drug (except marijuana) Age  \n",
       "0           991                              991  \n",
       "1            14                               16  \n",
       "2           991                              991  \n",
       "3           991                              991  \n",
       "4           991                              991  "
      ]
     },
     "execution_count": 44,
     "metadata": {},
     "output_type": "execute_result"
    }
   ],
   "source": [
    "age_data.head()"
   ]
  },
  {
   "cell_type": "code",
   "execution_count": 56,
   "metadata": {},
   "outputs": [
    {
     "data": {
      "text/plain": [
       "<matplotlib.axes._subplots.AxesSubplot at 0x2522e87cf70>"
      ]
     },
     "execution_count": 56,
     "metadata": {},
     "output_type": "execute_result"
    },
    {
     "data": {
      "image/png": "[encoded data removed]",
      "text/plain": [
       "<Figure size 432x288 with 1 Axes>"
      ]
     },
     "metadata": {},
     "output_type": "display_data"
    }
   ],
   "source": [
    "#def single_use_visual(col_name,grouped=True):\n",
    "def grouper(ele,name):\n",
    "    if ele < 19:\n",
    "        return \"12 - 18\"\n",
    "    elif ele < 26:\n",
    "        return \"19 and up\"\n",
    "    else:\n",
    "        return \"Never used \" + str(name)\n",
    "age_data['Cigarrete Age'].apply(lambda x: grouper(ele=x,name=\"Cigarretes\")).value_counts().plot.pie()"
   ]
  },
  {
   "cell_type": "code",
   "execution_count": null,
   "metadata": {},
   "outputs": [],
   "source": []
  }
 ],
 "metadata": {
  "kernelspec": {
   "display_name": "Python 3",
   "language": "python",
   "name": "python3"
  },
  "language_info": {
   "codemirror_mode": {
    "name": "ipython",
    "version": 3
   },
   "file_extension": ".py",
   "mimetype": "text/x-python",
   "name": "python",
   "nbconvert_exporter": "python",
   "pygments_lexer": "ipython3",
   "version": "3.8.1"
  }
 },
 "nbformat": 4,
 "nbformat_minor": 4
}
